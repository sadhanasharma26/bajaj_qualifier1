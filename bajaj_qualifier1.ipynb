{
  "nbformat": 4,
  "nbformat_minor": 0,
  "metadata": {
    "colab": {
      "provenance": []
    },
    "kernelspec": {
      "name": "python3",
      "display_name": "Python 3"
    },
    "language_info": {
      "name": "python"
    }
  },
  "cells": [
    {
      "cell_type": "code",
      "execution_count": 51,
      "metadata": {
        "id": "Wt7bc91iOF4E"
      },
      "outputs": [],
      "source": [
        "import pandas as pd\n",
        "import json\n",
        "\n",
        "from pandas import json_normalize\n",
        "\n"
      ]
    },
    {
      "cell_type": "code",
      "source": [
        "import pandas as pd\n",
        "\n",
        "df = pd.read_json('/content/DataEngineeringQ2.json')\n"
      ],
      "metadata": {
        "id": "vKvzBbIyVjbQ"
      },
      "execution_count": 43,
      "outputs": []
    },
    {
      "cell_type": "code",
      "source": [
        "#df = df.explode(['patientDetails', 'consultationData.medicines'])\n"
      ],
      "metadata": {
        "id": "8mrF0oKMVn-4"
      },
      "execution_count": 45,
      "outputs": []
    },
    {
      "cell_type": "code",
      "source": [],
      "metadata": {
        "id": "uvd_og3DWcUL"
      },
      "execution_count": null,
      "outputs": []
    },
    {
      "cell_type": "code",
      "source": [
        "with open('/content/DataEngineeringQ2.json', 'r') as file:\n",
        "    data = json.load(file)\n",
        "\n",
        "patient_details = [entry['patientDetails'] for entry in data]\n",
        "df = pd.DataFrame(patient_details)"
      ],
      "metadata": {
        "id": "qHO2cLjVUNAd"
      },
      "execution_count": 36,
      "outputs": []
    },
    {
      "cell_type": "code",
      "source": [
        "patient_details = [entry['patientDetails'] for entry in data]\n",
        "consultation_data = [entry['consultationData'] for entry in data]"
      ],
      "metadata": {
        "id": "0igziewZWiol"
      },
      "execution_count": 57,
      "outputs": []
    },
    {
      "cell_type": "code",
      "source": [
        "df_patient_details = pd.DataFrame(patient_details)\n",
        "df_consultation_data = pd.DataFrame(consultation_data)"
      ],
      "metadata": {
        "id": "J3mLtlP0Qsh3"
      },
      "execution_count": 58,
      "outputs": []
    },
    {
      "cell_type": "code",
      "source": [
        "df_patient_details['gender'].replace('', pd.NA, inplace=True)\n",
        "mode_gender = df_patient_details['gender'].mode()[0]\n",
        "df_patient_details['gender'].fillna(mode_gender, inplace=True)"
      ],
      "metadata": {
        "id": "OZdJuyOoX492"
      },
      "execution_count": 59,
      "outputs": []
    },
    {
      "cell_type": "code",
      "source": [
        "df['gender'].replace('', pd.NA, inplace=True)\n",
        "mode_gender = df['gender'].mode()[0]\n",
        "df['gender'].fillna(mode_gender, inplace=True)\n"
      ],
      "metadata": {
        "id": "KFO4kD1zPr3N"
      },
      "execution_count": 25,
      "outputs": []
    },
    {
      "cell_type": "code",
      "source": [
        "df.head()"
      ],
      "metadata": {
        "colab": {
          "base_uri": "https://localhost:8080/",
          "height": 241
        },
        "id": "sEwODw71Q89-",
        "outputId": "54178c50-baf8-4536-c8e5-05f72ad3f5f4"
      },
      "execution_count": 26,
      "outputs": [
        {
          "output_type": "execute_result",
          "data": {
            "text/plain": [
              "         _id   firstName     lastName emailId gender alternateContact  \\\n",
              "0  T6hb630b3         Css                           M                    \n",
              "1  T6h33b300      Lokesh                           M              NaN   \n",
              "2   TjhB4373       Shila          Das              M              NaN   \n",
              "3    6df4R5b     Bhavika  Ben Panchal              F              NaN   \n",
              "4   lK9hy06a  Raghu Viju                           M                    \n",
              "\n",
              "                  birthDate         phrId chat customId  \n",
              "0                      None           NaN  NaN      NaN  \n",
              "1  1996-05-16T18:30:00.000Z           NaN  NaN      NaN  \n",
              "2                       NaN  63b5hvy614d5  NaN      NaN  \n",
              "3  1988-04-24T14:30:00.000Z      644nig7y  NaN      NaN  \n",
              "4                       NaN           NaN  NaN      NaN  "
            ],
            "text/html": [
              "\n",
              "  <div id=\"df-e718b736-e7a7-4316-8abc-653e6752cc5a\" class=\"colab-df-container\">\n",
              "    <div>\n",
              "<style scoped>\n",
              "    .dataframe tbody tr th:only-of-type {\n",
              "        vertical-align: middle;\n",
              "    }\n",
              "\n",
              "    .dataframe tbody tr th {\n",
              "        vertical-align: top;\n",
              "    }\n",
              "\n",
              "    .dataframe thead th {\n",
              "        text-align: right;\n",
              "    }\n",
              "</style>\n",
              "<table border=\"1\" class=\"dataframe\">\n",
              "  <thead>\n",
              "    <tr style=\"text-align: right;\">\n",
              "      <th></th>\n",
              "      <th>_id</th>\n",
              "      <th>firstName</th>\n",
              "      <th>lastName</th>\n",
              "      <th>emailId</th>\n",
              "      <th>gender</th>\n",
              "      <th>alternateContact</th>\n",
              "      <th>birthDate</th>\n",
              "      <th>phrId</th>\n",
              "      <th>chat</th>\n",
              "      <th>customId</th>\n",
              "    </tr>\n",
              "  </thead>\n",
              "  <tbody>\n",
              "    <tr>\n",
              "      <th>0</th>\n",
              "      <td>T6hb630b3</td>\n",
              "      <td>Css</td>\n",
              "      <td></td>\n",
              "      <td></td>\n",
              "      <td>M</td>\n",
              "      <td></td>\n",
              "      <td>None</td>\n",
              "      <td>NaN</td>\n",
              "      <td>NaN</td>\n",
              "      <td>NaN</td>\n",
              "    </tr>\n",
              "    <tr>\n",
              "      <th>1</th>\n",
              "      <td>T6h33b300</td>\n",
              "      <td>Lokesh</td>\n",
              "      <td></td>\n",
              "      <td></td>\n",
              "      <td>M</td>\n",
              "      <td>NaN</td>\n",
              "      <td>1996-05-16T18:30:00.000Z</td>\n",
              "      <td>NaN</td>\n",
              "      <td>NaN</td>\n",
              "      <td>NaN</td>\n",
              "    </tr>\n",
              "    <tr>\n",
              "      <th>2</th>\n",
              "      <td>TjhB4373</td>\n",
              "      <td>Shila</td>\n",
              "      <td>Das</td>\n",
              "      <td></td>\n",
              "      <td>M</td>\n",
              "      <td>NaN</td>\n",
              "      <td>NaN</td>\n",
              "      <td>63b5hvy614d5</td>\n",
              "      <td>NaN</td>\n",
              "      <td>NaN</td>\n",
              "    </tr>\n",
              "    <tr>\n",
              "      <th>3</th>\n",
              "      <td>6df4R5b</td>\n",
              "      <td>Bhavika</td>\n",
              "      <td>Ben Panchal</td>\n",
              "      <td></td>\n",
              "      <td>F</td>\n",
              "      <td>NaN</td>\n",
              "      <td>1988-04-24T14:30:00.000Z</td>\n",
              "      <td>644nig7y</td>\n",
              "      <td>NaN</td>\n",
              "      <td>NaN</td>\n",
              "    </tr>\n",
              "    <tr>\n",
              "      <th>4</th>\n",
              "      <td>lK9hy06a</td>\n",
              "      <td>Raghu Viju</td>\n",
              "      <td></td>\n",
              "      <td></td>\n",
              "      <td>M</td>\n",
              "      <td></td>\n",
              "      <td>NaN</td>\n",
              "      <td>NaN</td>\n",
              "      <td>NaN</td>\n",
              "      <td>NaN</td>\n",
              "    </tr>\n",
              "  </tbody>\n",
              "</table>\n",
              "</div>\n",
              "    <div class=\"colab-df-buttons\">\n",
              "\n",
              "  <div class=\"colab-df-container\">\n",
              "    <button class=\"colab-df-convert\" onclick=\"convertToInteractive('df-e718b736-e7a7-4316-8abc-653e6752cc5a')\"\n",
              "            title=\"Convert this dataframe to an interactive table.\"\n",
              "            style=\"display:none;\">\n",
              "\n",
              "  <svg xmlns=\"http://www.w3.org/2000/svg\" height=\"24px\" viewBox=\"0 -960 960 960\">\n",
              "    <path d=\"M120-120v-720h720v720H120Zm60-500h600v-160H180v160Zm220 220h160v-160H400v160Zm0 220h160v-160H400v160ZM180-400h160v-160H180v160Zm440 0h160v-160H620v160ZM180-180h160v-160H180v160Zm440 0h160v-160H620v160Z\"/>\n",
              "  </svg>\n",
              "    </button>\n",
              "\n",
              "  <style>\n",
              "    .colab-df-container {\n",
              "      display:flex;\n",
              "      gap: 12px;\n",
              "    }\n",
              "\n",
              "    .colab-df-convert {\n",
              "      background-color: #E8F0FE;\n",
              "      border: none;\n",
              "      border-radius: 50%;\n",
              "      cursor: pointer;\n",
              "      display: none;\n",
              "      fill: #1967D2;\n",
              "      height: 32px;\n",
              "      padding: 0 0 0 0;\n",
              "      width: 32px;\n",
              "    }\n",
              "\n",
              "    .colab-df-convert:hover {\n",
              "      background-color: #E2EBFA;\n",
              "      box-shadow: 0px 1px 2px rgba(60, 64, 67, 0.3), 0px 1px 3px 1px rgba(60, 64, 67, 0.15);\n",
              "      fill: #174EA6;\n",
              "    }\n",
              "\n",
              "    .colab-df-buttons div {\n",
              "      margin-bottom: 4px;\n",
              "    }\n",
              "\n",
              "    [theme=dark] .colab-df-convert {\n",
              "      background-color: #3B4455;\n",
              "      fill: #D2E3FC;\n",
              "    }\n",
              "\n",
              "    [theme=dark] .colab-df-convert:hover {\n",
              "      background-color: #434B5C;\n",
              "      box-shadow: 0px 1px 3px 1px rgba(0, 0, 0, 0.15);\n",
              "      filter: drop-shadow(0px 1px 2px rgba(0, 0, 0, 0.3));\n",
              "      fill: #FFFFFF;\n",
              "    }\n",
              "  </style>\n",
              "\n",
              "    <script>\n",
              "      const buttonEl =\n",
              "        document.querySelector('#df-e718b736-e7a7-4316-8abc-653e6752cc5a button.colab-df-convert');\n",
              "      buttonEl.style.display =\n",
              "        google.colab.kernel.accessAllowed ? 'block' : 'none';\n",
              "\n",
              "      async function convertToInteractive(key) {\n",
              "        const element = document.querySelector('#df-e718b736-e7a7-4316-8abc-653e6752cc5a');\n",
              "        const dataTable =\n",
              "          await google.colab.kernel.invokeFunction('convertToInteractive',\n",
              "                                                    [key], {});\n",
              "        if (!dataTable) return;\n",
              "\n",
              "        const docLinkHtml = 'Like what you see? Visit the ' +\n",
              "          '<a target=\"_blank\" href=https://colab.research.google.com/notebooks/data_table.ipynb>data table notebook</a>'\n",
              "          + ' to learn more about interactive tables.';\n",
              "        element.innerHTML = '';\n",
              "        dataTable['output_type'] = 'display_data';\n",
              "        await google.colab.output.renderOutput(dataTable, element);\n",
              "        const docLink = document.createElement('div');\n",
              "        docLink.innerHTML = docLinkHtml;\n",
              "        element.appendChild(docLink);\n",
              "      }\n",
              "    </script>\n",
              "  </div>\n",
              "\n",
              "\n",
              "<div id=\"df-635af235-fbef-44ad-9447-4db2f67ef958\">\n",
              "  <button class=\"colab-df-quickchart\" onclick=\"quickchart('df-635af235-fbef-44ad-9447-4db2f67ef958')\"\n",
              "            title=\"Suggest charts\"\n",
              "            style=\"display:none;\">\n",
              "\n",
              "<svg xmlns=\"http://www.w3.org/2000/svg\" height=\"24px\"viewBox=\"0 0 24 24\"\n",
              "     width=\"24px\">\n",
              "    <g>\n",
              "        <path d=\"M19 3H5c-1.1 0-2 .9-2 2v14c0 1.1.9 2 2 2h14c1.1 0 2-.9 2-2V5c0-1.1-.9-2-2-2zM9 17H7v-7h2v7zm4 0h-2V7h2v10zm4 0h-2v-4h2v4z\"/>\n",
              "    </g>\n",
              "</svg>\n",
              "  </button>\n",
              "\n",
              "<style>\n",
              "  .colab-df-quickchart {\n",
              "      --bg-color: #E8F0FE;\n",
              "      --fill-color: #1967D2;\n",
              "      --hover-bg-color: #E2EBFA;\n",
              "      --hover-fill-color: #174EA6;\n",
              "      --disabled-fill-color: #AAA;\n",
              "      --disabled-bg-color: #DDD;\n",
              "  }\n",
              "\n",
              "  [theme=dark] .colab-df-quickchart {\n",
              "      --bg-color: #3B4455;\n",
              "      --fill-color: #D2E3FC;\n",
              "      --hover-bg-color: #434B5C;\n",
              "      --hover-fill-color: #FFFFFF;\n",
              "      --disabled-bg-color: #3B4455;\n",
              "      --disabled-fill-color: #666;\n",
              "  }\n",
              "\n",
              "  .colab-df-quickchart {\n",
              "    background-color: var(--bg-color);\n",
              "    border: none;\n",
              "    border-radius: 50%;\n",
              "    cursor: pointer;\n",
              "    display: none;\n",
              "    fill: var(--fill-color);\n",
              "    height: 32px;\n",
              "    padding: 0;\n",
              "    width: 32px;\n",
              "  }\n",
              "\n",
              "  .colab-df-quickchart:hover {\n",
              "    background-color: var(--hover-bg-color);\n",
              "    box-shadow: 0 1px 2px rgba(60, 64, 67, 0.3), 0 1px 3px 1px rgba(60, 64, 67, 0.15);\n",
              "    fill: var(--button-hover-fill-color);\n",
              "  }\n",
              "\n",
              "  .colab-df-quickchart-complete:disabled,\n",
              "  .colab-df-quickchart-complete:disabled:hover {\n",
              "    background-color: var(--disabled-bg-color);\n",
              "    fill: var(--disabled-fill-color);\n",
              "    box-shadow: none;\n",
              "  }\n",
              "\n",
              "  .colab-df-spinner {\n",
              "    border: 2px solid var(--fill-color);\n",
              "    border-color: transparent;\n",
              "    border-bottom-color: var(--fill-color);\n",
              "    animation:\n",
              "      spin 1s steps(1) infinite;\n",
              "  }\n",
              "\n",
              "  @keyframes spin {\n",
              "    0% {\n",
              "      border-color: transparent;\n",
              "      border-bottom-color: var(--fill-color);\n",
              "      border-left-color: var(--fill-color);\n",
              "    }\n",
              "    20% {\n",
              "      border-color: transparent;\n",
              "      border-left-color: var(--fill-color);\n",
              "      border-top-color: var(--fill-color);\n",
              "    }\n",
              "    30% {\n",
              "      border-color: transparent;\n",
              "      border-left-color: var(--fill-color);\n",
              "      border-top-color: var(--fill-color);\n",
              "      border-right-color: var(--fill-color);\n",
              "    }\n",
              "    40% {\n",
              "      border-color: transparent;\n",
              "      border-right-color: var(--fill-color);\n",
              "      border-top-color: var(--fill-color);\n",
              "    }\n",
              "    60% {\n",
              "      border-color: transparent;\n",
              "      border-right-color: var(--fill-color);\n",
              "    }\n",
              "    80% {\n",
              "      border-color: transparent;\n",
              "      border-right-color: var(--fill-color);\n",
              "      border-bottom-color: var(--fill-color);\n",
              "    }\n",
              "    90% {\n",
              "      border-color: transparent;\n",
              "      border-bottom-color: var(--fill-color);\n",
              "    }\n",
              "  }\n",
              "</style>\n",
              "\n",
              "  <script>\n",
              "    async function quickchart(key) {\n",
              "      const quickchartButtonEl =\n",
              "        document.querySelector('#' + key + ' button');\n",
              "      quickchartButtonEl.disabled = true;  // To prevent multiple clicks.\n",
              "      quickchartButtonEl.classList.add('colab-df-spinner');\n",
              "      try {\n",
              "        const charts = await google.colab.kernel.invokeFunction(\n",
              "            'suggestCharts', [key], {});\n",
              "      } catch (error) {\n",
              "        console.error('Error during call to suggestCharts:', error);\n",
              "      }\n",
              "      quickchartButtonEl.classList.remove('colab-df-spinner');\n",
              "      quickchartButtonEl.classList.add('colab-df-quickchart-complete');\n",
              "    }\n",
              "    (() => {\n",
              "      let quickchartButtonEl =\n",
              "        document.querySelector('#df-635af235-fbef-44ad-9447-4db2f67ef958 button');\n",
              "      quickchartButtonEl.style.display =\n",
              "        google.colab.kernel.accessAllowed ? 'block' : 'none';\n",
              "    })();\n",
              "  </script>\n",
              "</div>\n",
              "\n",
              "    </div>\n",
              "  </div>\n"
            ],
            "application/vnd.google.colaboratory.intrinsic+json": {
              "type": "dataframe",
              "variable_name": "df",
              "summary": "{\n  \"name\": \"df\",\n  \"rows\": 31,\n  \"fields\": [\n    {\n      \"column\": \"_id\",\n      \"properties\": {\n        \"dtype\": \"string\",\n        \"num_unique_values\": 30,\n        \"samples\": [\n          \"R53Et5W\",\n          \"T4E7Ge6\",\n          \"T6h40a5ad3d8002ad9c06a\"\n        ],\n        \"semantic_type\": \"\",\n        \"description\": \"\"\n      }\n    },\n    {\n      \"column\": \"firstName\",\n      \"properties\": {\n        \"dtype\": \"string\",\n        \"num_unique_values\": 30,\n        \"samples\": [\n          \"Rajeshwari\",\n          \"Nivitha\",\n          \"VITTHAL SHANKARRAO GHATE\"\n        ],\n        \"semantic_type\": \"\",\n        \"description\": \"\"\n      }\n    },\n    {\n      \"column\": \"lastName\",\n      \"properties\": {\n        \"dtype\": \"category\",\n        \"num_unique_values\": 9,\n        \"samples\": [\n          \"Sharma\",\n          \"Das\",\n          \"Kalaiarasi\"\n        ],\n        \"semantic_type\": \"\",\n        \"description\": \"\"\n      }\n    },\n    {\n      \"column\": \"emailId\",\n      \"properties\": {\n        \"dtype\": \"object\",\n        \"num_unique_values\": 1,\n        \"samples\": [\n          \"\"\n        ],\n        \"semantic_type\": \"\",\n        \"description\": \"\"\n      }\n    },\n    {\n      \"column\": \"gender\",\n      \"properties\": {\n        \"dtype\": \"category\",\n        \"num_unique_values\": 2,\n        \"samples\": [\n          \"F\"\n        ],\n        \"semantic_type\": \"\",\n        \"description\": \"\"\n      }\n    },\n    {\n      \"column\": \"alternateContact\",\n      \"properties\": {\n        \"dtype\": \"category\",\n        \"num_unique_values\": 2,\n        \"samples\": [\n          \"+917797689682\"\n        ],\n        \"semantic_type\": \"\",\n        \"description\": \"\"\n      }\n    },\n    {\n      \"column\": \"birthDate\",\n      \"properties\": {\n        \"dtype\": \"date\",\n        \"min\": \"1970-05-16 18:30:00+00:00\",\n        \"max\": \"2003-06-27 14:30:00+00:00\",\n        \"num_unique_values\": 18,\n        \"samples\": [\n          \"1996-05-16T18:30:00.000Z\"\n        ],\n        \"semantic_type\": \"\",\n        \"description\": \"\"\n      }\n    },\n    {\n      \"column\": \"phrId\",\n      \"properties\": {\n        \"dtype\": \"category\",\n        \"num_unique_values\": 7,\n        \"samples\": [\n          \"63b5hvy614d5\"\n        ],\n        \"semantic_type\": \"\",\n        \"description\": \"\"\n      }\n    },\n    {\n      \"column\": \"chat\",\n      \"properties\": {\n        \"dtype\": \"object\",\n        \"semantic_type\": \"\",\n        \"description\": \"\"\n      }\n    },\n    {\n      \"column\": \"customId\",\n      \"properties\": {\n        \"dtype\": \"string\",\n        \"num_unique_values\": 16,\n        \"samples\": [\n          \"3FPEUCW8HACJ\"\n        ],\n        \"semantic_type\": \"\",\n        \"description\": \"\"\n      }\n    }\n  ]\n}"
            }
          },
          "metadata": {},
          "execution_count": 26
        }
      ]
    },
    {
      "cell_type": "code",
      "source": [
        "df.info()"
      ],
      "metadata": {
        "colab": {
          "base_uri": "https://localhost:8080/"
        },
        "id": "g3WWs3O9Qw1X",
        "outputId": "cffd57e7-3f3f-478c-e530-1193dc5e8408"
      },
      "execution_count": 27,
      "outputs": [
        {
          "output_type": "stream",
          "name": "stdout",
          "text": [
            "<class 'pandas.core.frame.DataFrame'>\n",
            "RangeIndex: 31 entries, 0 to 30\n",
            "Data columns (total 10 columns):\n",
            " #   Column            Non-Null Count  Dtype \n",
            "---  ------            --------------  ----- \n",
            " 0   _id               31 non-null     object\n",
            " 1   firstName         31 non-null     object\n",
            " 2   lastName          31 non-null     object\n",
            " 3   emailId           30 non-null     object\n",
            " 4   gender            31 non-null     object\n",
            " 5   alternateContact  9 non-null      object\n",
            " 6   birthDate         21 non-null     object\n",
            " 7   phrId             8 non-null      object\n",
            " 8   chat              16 non-null     object\n",
            " 9   customId          16 non-null     object\n",
            "dtypes: object(10)\n",
            "memory usage: 2.5+ KB\n"
          ]
        }
      ]
    },
    {
      "cell_type": "code",
      "source": [
        "print(df)"
      ],
      "metadata": {
        "colab": {
          "base_uri": "https://localhost:8080/"
        },
        "id": "HHIRSeQIQtS1",
        "outputId": "ecb706f4-84ef-451c-f26f-f7d4eaffaf53"
      },
      "execution_count": 28,
      "outputs": [
        {
          "output_type": "stream",
          "name": "stdout",
          "text": [
            "                       _id                 firstName     lastName emailId  \\\n",
            "0                T6hb630b3                       Css                        \n",
            "1                T6h33b300                    Lokesh                        \n",
            "2                 TjhB4373                     Shila          Das           \n",
            "3                  6df4R5b                   Bhavika  Ben Panchal           \n",
            "4                 lK9hy06a                Raghu Viju                        \n",
            "5                  kI9d5c6              Dinesh Kumar                        \n",
            "6                 i9R324b7                     Lalit     Sankhwal           \n",
            "7   T6h41b5ad3d8002ad9c3c4                      Ravi                        \n",
            "8                 T9Iy347e                    Dinesh                        \n",
            "9                  T4Rb1a2                    Sanjay                        \n",
            "10                Tr4T2173                    Akshay       Akshay           \n",
            "11                  T6Wa50                   Nirmala                        \n",
            "12                 65sRa36                    Satish                        \n",
            "13                 UG67231                Kalaiarasi   Kalaiarasi           \n",
            "14                 E4u5Ea2              Satyanaaryan                        \n",
            "15                 T4E7Ge6                   Nivitha                        \n",
            "16                 04Re22d                    Tejpal                        \n",
            "17                u7dWa589                  Nandhini                        \n",
            "18                 TU7e913                  Dhanamma                        \n",
            "19                 H8s2d40                    Kushal                        \n",
            "20                   u9cd6                    Daniya        Zehra           \n",
            "21                 Pdh97S6                       Jay       Sharma           \n",
            "22               h02U8a781                   Preethi                        \n",
            "23  T6h40a5ad3d8002ad9c06a  VITTHAL SHANKARRAO GHATE                  NaN   \n",
            "24                  Y7sHec                    Naresh                        \n",
            "25   T6h408981ayf32b63bcfa                    Suresh      Gaikwad           \n",
            "26                T6U67af9                 Govardhan                        \n",
            "27                 R53Et5W                Rajeshwari                        \n",
            "28                dE3r$2b5                   Santosh                        \n",
            "29                 TI93Hd5                 Tarachand                        \n",
            "30                 Pdh97S6                       Jay       Sharma           \n",
            "\n",
            "   gender alternateContact                 birthDate         phrId  \\\n",
            "0       M                                       None           NaN   \n",
            "1       M              NaN  1996-05-16T18:30:00.000Z           NaN   \n",
            "2       M              NaN                       NaN  63b5hvy614d5   \n",
            "3       F              NaN  1988-04-24T14:30:00.000Z      644nig7y   \n",
            "4       M                                        NaN           NaN   \n",
            "5       M              NaN  1983-05-16T18:30:00.000Z           NaN   \n",
            "6       M                   2003-06-27T14:30:00.000Z      67Yt2b97   \n",
            "7       M              NaN                       NaN           NaN   \n",
            "8       M              NaN  1983-05-16T18:30:00.000Z           NaN   \n",
            "9       M              NaN  1998-05-16T18:30:00.000Z           NaN   \n",
            "10      M              NaN  1988-04-08T00:00:00.000Z       6E48U79   \n",
            "11      F              NaN  1971-05-16T18:30:00.000Z           NaN   \n",
            "12      M              NaN  1970-05-16T18:30:00.000Z           NaN   \n",
            "13      F                   1997-07-31T00:00:00.000Z       T6a7231   \n",
            "14      M                                        NaN           NaN   \n",
            "15      F              NaN  1997-05-16T18:30:00.000Z           NaN   \n",
            "16      M              NaN  1972-05-16T18:30:00.000Z           NaN   \n",
            "17      F              NaN  2001-05-16T18:30:00.000Z           NaN   \n",
            "18      F              NaN                       NaN           NaN   \n",
            "19      M              NaN                       NaN           NaN   \n",
            "20      F              NaN  2001-08-27T00:00:00.000Z    6463U8s231   \n",
            "21      M              NaN  1998-11-19T23:30:00.000Z       Jus0480   \n",
            "22      F              NaN  1996-05-16T18:30:00.000Z           NaN   \n",
            "23      M    +917797689682                       NaN           NaN   \n",
            "24      M              NaN  1992-05-16T18:30:00.000Z           NaN   \n",
            "25      M                                        NaN           NaN   \n",
            "26      M                                        NaN           NaN   \n",
            "27      F              NaN  1999-05-16T18:30:00.000Z           NaN   \n",
            "28      F              NaN  1972-05-16T18:30:00.000Z           NaN   \n",
            "29      M                   1980-03-22T18:30:00.000Z           NaN   \n",
            "30      M              NaN  1991-11-19T23:30:00.000Z       Jus0480   \n",
            "\n",
            "                                           chat      customId  \n",
            "0                                           NaN           NaN  \n",
            "1                                           NaN           NaN  \n",
            "2                                           NaN           NaN  \n",
            "3                                           NaN           NaN  \n",
            "4                                           NaN           NaN  \n",
            "5                           {'_id': '09hUb5c7'}  3FPEUCW8HACJ  \n",
            "6                                           NaN           NaN  \n",
            "7             {'_id': 'T6h41b5ad3d8002ad9c3c5'}  8AV4ICI5I389  \n",
            "8                           {'_id': 'T9IsT37f'}  0308MSAHYR8K  \n",
            "9                           {'_id': '7Yd9b1a3'}  8S7A3D4K4WZH  \n",
            "10  {'_id': 'Tr4W174', 'channelId': '9IrR9ce7'}  83AH0K04SSTV  \n",
            "11            {'_id': 'T6h3635ad3d8002ad9b001'}  832ZIS6ZCAHH  \n",
            "12                            {'_id': '6Y6a36'}  YW883CARSES3  \n",
            "13                                          NaN           NaN  \n",
            "14                           {'_id': 'E4u5Ea2'}       E4u5Ea2  \n",
            "15                                          NaN           NaN  \n",
            "16                           {'_id': '04Re22d'}       04Re22d  \n",
            "17                                          NaN           NaN  \n",
            "18                         {'_id': 'u8e6fgd14'}       y7ewr5w  \n",
            "19                                          NaN           NaN  \n",
            "20                                          NaN           NaN  \n",
            "21                                          NaN           NaN  \n",
            "22                          {'_id': 'T6h9a782'}     H8NdI3MAW  \n",
            "23            {'_id': 'T6h40a1becc5002908b235'}  83AAWWI24W63  \n",
            "24                                          NaN           NaN  \n",
            "25                           {'_id': 'Hsb690S'}      ABCD1419  \n",
            "26                         {'_id': 'u7sg9be5a'}       Gya7sfw  \n",
            "27                      {'_id': 'T6h2fT5535c6'}      K44RwH0T  \n",
            "28                                          NaN           NaN  \n",
            "29                           {'_id': 'TH8W2d6'}       90hjdX2  \n",
            "30                                          NaN           NaN  \n"
          ]
        }
      ]
    },
    {
      "cell_type": "code",
      "source": [
        "female_percentage = (df['gender'] == 'female').mean() * 100\n",
        "female_percentage = round(female_percentage, 2)\n",
        "print(female_percentage)\n"
      ],
      "metadata": {
        "colab": {
          "base_uri": "https://localhost:8080/"
        },
        "id": "8Ljd8t7eQRYs",
        "outputId": "3cfe6576-33b3-4ac7-b0be-f75ef0c2d7b1"
      },
      "execution_count": 29,
      "outputs": [
        {
          "output_type": "stream",
          "name": "stdout",
          "text": [
            "0.0\n"
          ]
        }
      ]
    },
    {
      "cell_type": "code",
      "source": [
        "from datetime import datetime\n",
        "\n",
        "df['birthDate'] = pd.to_datetime(df['birthDate'], errors='coerce')\n",
        "current_date = datetime.now()\n",
        "\n",
        "df['age'] = df['birthDate'].apply(lambda x: current_date.year - x.year if pd.notnull(x) else None)\n"
      ],
      "metadata": {
        "id": "WbQgzkghQpPd"
      },
      "execution_count": 30,
      "outputs": []
    },
    {
      "cell_type": "code",
      "source": [
        "def categorize_age(age):\n",
        "    if age is None:\n",
        "        return 'Unknown'\n",
        "    elif age <= 12:\n",
        "        return 'Child'\n",
        "    elif age <= 19:\n",
        "        return 'Teen'\n",
        "    elif age <= 59:\n",
        "        return 'Adult'\n",
        "    else:\n",
        "        return 'Senior'\n",
        "\n",
        "df['ageGroup'] = df['age'].apply(categorize_age)\n"
      ],
      "metadata": {
        "id": "es4uK_vdRCWC"
      },
      "execution_count": 31,
      "outputs": []
    },
    {
      "cell_type": "code",
      "source": [
        "adult_count = df[df['ageGroup'] == 'Adult'].shape[0]\n",
        "print(adult_count)\n"
      ],
      "metadata": {
        "colab": {
          "base_uri": "https://localhost:8080/"
        },
        "id": "65uaM4OSRIQz",
        "outputId": "3df0856f-ef9c-406f-f259-493c14cf4ba5"
      },
      "execution_count": 32,
      "outputs": [
        {
          "output_type": "stream",
          "name": "stdout",
          "text": [
            "21\n"
          ]
        }
      ]
    },
    {
      "cell_type": "code",
      "source": [
        "\n",
        "consultation_data = [entry['consultationData'] for entry in data]\n",
        "\n",
        "df_patient_details = pd.DataFrame(patient_details)\n",
        "df_consultation_data = pd.DataFrame(consultation_data)\n"
      ],
      "metadata": {
        "id": "5LT4g4faRLv8"
      },
      "execution_count": 33,
      "outputs": []
    },
    {
      "cell_type": "code",
      "source": [
        "df_consultation_data['num_medicines'] = df_consultation_data['medicines'].apply(lambda x: len(x))\n"
      ],
      "metadata": {
        "id": "u_C2caWeRjT_"
      },
      "execution_count": 34,
      "outputs": []
    },
    {
      "cell_type": "code",
      "source": [
        "average_medicines = df_consultation_data['num_medicines'].mean()\n",
        "average_medicines = round(average_medicines, 2)\n",
        "print(average_medicines)\n"
      ],
      "metadata": {
        "colab": {
          "base_uri": "https://localhost:8080/"
        },
        "id": "DasTXcCmR5xK",
        "outputId": "44c43d0a-544c-49c8-b11f-e9165a982d4b"
      },
      "execution_count": 35,
      "outputs": [
        {
          "output_type": "stream",
          "name": "stdout",
          "text": [
            "2.13\n"
          ]
        }
      ]
    },
    {
      "cell_type": "code",
      "source": [
        "df_consultation_data = df_consultation_data.explode('medicines', ignore_index=True)\n",
        "df_medicines = json_normalize(df_consultation_data['medicines'])\n"
      ],
      "metadata": {
        "id": "KgLZOftoR9EF"
      },
      "execution_count": 61,
      "outputs": []
    },
    {
      "cell_type": "code",
      "source": [
        "df_medicines = pd.DataFrame({\n",
        "    'phoneNumber': ['+919876787687', '919877475896', '+913454768688', '9876787687', '3454768688', '57769666']\n",
        "})\n",
        "\n",
        "def is_valid_indian_phone_number(phone_number):\n",
        "    phone_number = phone_number.strip()\n",
        "\n",
        "    if phone_number.startswith('+91'):\n",
        "        phone_number = phone_number[3:]\n",
        "    elif phone_number.startswith('91'):\n",
        "        phone_number = phone_number[2:]\n",
        "\n",
        "    if len(phone_number) == 10 and phone_number.isdigit():\n",
        "        number = int(phone_number)\n",
        "        return 6000000000 <= number <= 9999999999\n",
        "    else:\n",
        "        return False\n",
        "\n",
        "df_medicines['isValidMobile'] = df_medicines['phoneNumber'].apply(is_valid_indian_phone_number)\n",
        "\n",
        "valid_phone_count = df_medicines['isValidMobile'].sum()\n",
        "print(f\"Number of valid phone numbers found: {valid_phone_count}\")\n",
        "\n",
        "print(df_medicines)\n"
      ],
      "metadata": {
        "colab": {
          "base_uri": "https://localhost:8080/"
        },
        "id": "a5Z_7HiYUdgC",
        "outputId": "d74db804-49b1-498d-91ec-a6bef8fbb4d4"
      },
      "execution_count": 68,
      "outputs": [
        {
          "output_type": "stream",
          "name": "stdout",
          "text": [
            "Number of valid phone numbers found: 3\n",
            "     phoneNumber  isValidMobile\n",
            "0  +919876787687           True\n",
            "1   919877475896           True\n",
            "2  +913454768688          False\n",
            "3     9876787687           True\n",
            "4     3454768688          False\n",
            "5       57769666          False\n"
          ]
        }
      ]
    },
    {
      "cell_type": "code",
      "source": [
        "df_consultation_data = df_consultation_data.explode('medicines', ignore_index=True)\n",
        "df_medicines = json_normalize(df_consultation_data['medicines'])\n",
        "\n",
        "df_consultation_data['num_medicines'] = df_consultation_data['medicines'].apply(lambda x: len(x) if isinstance(x, list) else 0)\n",
        "\n",
        "df_combined = df_patient_details.join(df_consultation_data[['num_medicines']], how='inner')\n",
        "\n",
        "df_combined['birthDate'] = pd.to_datetime(df_combined['birthDate'], errors='coerce')\n",
        "current_date = datetime.now()\n",
        "df_combined['age'] = df_combined['birthDate'].apply(lambda x: current_date.year - x.year if pd.notnull(x) else None)\n",
        "\n",
        "df_combined = df_combined.dropna(subset=['age', 'num_medicines'])\n",
        "\n",
        "correlation = df_combined[['age', 'num_medicines']].corr().loc['age', 'num_medicines']\n",
        "correlation_rounded = round(correlation, 2)\n",
        "\n"
      ],
      "metadata": {
        "id": "zsybtPHjVXrw"
      },
      "execution_count": 74,
      "outputs": []
    },
    {
      "cell_type": "code",
      "source": [
        "print(correlation_rounded)\n"
      ],
      "metadata": {
        "colab": {
          "base_uri": "https://localhost:8080/"
        },
        "id": "W5oJ40AFZKFc",
        "outputId": "281f829c-dba8-43f7-ab97-9372303174d1"
      },
      "execution_count": 75,
      "outputs": [
        {
          "output_type": "stream",
          "name": "stdout",
          "text": [
            "nan\n"
          ]
        }
      ]
    },
    {
      "cell_type": "code",
      "source": [
        "df_consultation_data = pd.DataFrame(consultation_data)\n",
        "\n",
        "df_consultation_data = df_consultation_data.explode('medicines', ignore_index=True)\n",
        "df_medicines = json_normalize(df_consultation_data['medicines'])\n",
        "\n",
        "if 'status' in df_medicines.columns:\n",
        "    df_medicines.dropna(subset=['status'], inplace=True)\n",
        "\n",
        "    status_counts = df_medicines['status'].value_counts()\n",
        "\n",
        "    total_medicines = status_counts.sum()\n",
        "    percentage_distribution = (status_counts / total_medicines) * 100\n",
        "\n",
        "    percentage_distribution = percentage_distribution.round(2)\n",
        "\n",
        "    print(\"\\nTotal active and inactive medicines:\")\n",
        "    print(status_counts)\n",
        "    print(\"\\nPercentage distribution of active and inactive medicines:\")\n",
        "    print(percentage_distribution)\n",
        "else:\n",
        "    print(\"'status' key not found in medicines data.\")\n"
      ],
      "metadata": {
        "colab": {
          "base_uri": "https://localhost:8080/"
        },
        "id": "A0ExfBo_ZnKl",
        "outputId": "883ec537-f906-40f0-e829-377ce9c5bd4b"
      },
      "execution_count": 77,
      "outputs": [
        {
          "output_type": "stream",
          "name": "stdout",
          "text": [
            "'status' key not found in medicines data.\n"
          ]
        }
      ]
    },
    {
      "cell_type": "code",
      "source": [],
      "metadata": {
        "id": "vsi-inhUaNAA"
      },
      "execution_count": null,
      "outputs": []
    }
  ]
}